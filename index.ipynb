{
 "cells": [
  {
   "cell_type": "markdown",
   "metadata": {},
   "source": [
    "# Project: Analyzing Macbeth\n",
    "\n",
    "## Introduction\n",
    "For our first day and first data science project, we're going to do some rudimentry analysis of Shakespeare's classic play: Macbeth! You will get practice working with lists, condtionals and dictionaries, visualizing data, and thinking analytically about data.\n",
    "\n",
    "## Objectives\n",
    "You will be able to:\n",
    "* Show mastery of the content covered in this section\n",
    "\n",
    "## Getting the Data\n",
    "Here we start by importing a python package and using it to pull the transcript of Macbeth from the project Gutenberg website. We also preview a few details about what is now stored in the variable macbeth; it's a string with 119,846 characters, the first 500 of which are printed below. "
   ]
  },
  {
   "cell_type": "code",
   "execution_count": 11,
   "metadata": {},
   "outputs": [
    {
     "name": "stdout",
     "output_type": "stream",
     "text": [
      "<class 'str'>\n",
      "120253\n",
      "﻿\r\n",
      "\r\n",
      "***The Project Gutenberg's Etext of Shakespeare's First Folio***\r\n",
      "********************The Tragedie of Macbeth*********************\r\n",
      "\r\n",
      "\r\n",
      "\r\n",
      "*******************************************************************\r\n",
      "THIS EBOOK WAS ONE OF PROJECT GUTENBERG'S EARLY FILES PRODUCED AT A\r\n",
      "TIME WHEN PROOFING METHODS AND TOOLS WERE NOT WELL DEVELOPED. THERE\r\n",
      "IS AN IMPROVED EDITION OF THIS TITLE WHICH MAY BE VIEWED AS EBOOK\r\n",
      "(#1533) at https://www.gutenberg.org/ebooks/1533\r\n",
      "*********************************\n"
     ]
    }
   ],
   "source": [
    "import requests\n",
    "macbeth = requests.get('http://www.gutenberg.org/cache/epub/2264/pg2264.txt').text\n",
    "\n",
    "print(type(macbeth))\n",
    "print(len(macbeth))\n",
    "print(macbeth[:500])"
   ]
  },
  {
   "cell_type": "markdown",
   "metadata": {},
   "source": [
    "## Your Task\n",
    "\n",
    "Your task is to create a bar graph of the 25 most common words in Shakespeare's Macbeth.  \n",
    "\n",
    "\n",
    "A common python programming pattern to counting objects, produce histograms, or update statistics is to make calls to a dictionary as you iterate through a list. For example, given a list of words, you can create a dictionary to store counts and then iterate through the list of words, checking how many times each word has appeared using your dictionary, and updating the dictionary count now that you've seen that word again. The `dictionary.get()` method is very useful in doing this. Read the docstring for the dictionary.get() method and use it along with the pseudocode above to create a bar graph of the 25 most common words from the transcript of Macbeth which has been loaded into a variable 'Macbeth'. Be sure to include a title and appropriate labels for your graph."
   ]
  },
  {
   "cell_type": "code",
   "execution_count": 14,
   "metadata": {},
   "outputs": [
    {
     "data": {
      "image/png": "[encoded data removed]",
      "text/plain": [
       "<Figure size 432x288 with 1 Axes>"
      ]
     },
     "metadata": {
      "needs_background": "light"
     },
     "output_type": "display_data"
    },
    {
     "name": "stdout",
     "output_type": "stream",
     "text": [
      "Words and counts:  {'with': 141, 'The': 131, 'you': 193, 'haue': 114, 'his': 127, 'that': 158, 'and': 427, 'That': 80, 'a': 255, 'be': 133, 'of': 395, 'And': 169, 'to': 367, 'this': 108, 'our': 116, 'is': 185, 'for': 100, 'in': 190, 'your': 122, 'the': 620, 'it': 128, 'my': 170, 'I': 326, 'not': 142, 'Macb.': 137}\n"
     ]
    }
   ],
   "source": [
    "import matplotlib.pyplot as plt\n",
    "\n",
    "%matplotlib inline\n",
    "\n",
    "words = macbeth.split()\n",
    "unique_words = set(words)\n",
    "\n",
    "def init_word_counter(word_list):\n",
    "    word_dict = {}\n",
    "    for word in word_list:\n",
    "        word_dict[word]=int(0)\n",
    "    return word_dict\n",
    "initialized_word_counter = init_word_counter(unique_words)\n",
    "\n",
    "def word_counter(word_list,init_dict):\n",
    "    for word in word_list:\n",
    "        init_dict[word] += 1\n",
    "    return init_dict\n",
    "\n",
    "\n",
    "counted_words = word_counter(words,initialized_word_counter)\n",
    "\n",
    "def short_count(dict_to_shorten):\n",
    "    for key in list(dict_to_shorten.keys()):\n",
    "        if dict_to_shorten[key] < 80: #i used trial/error, theres a better way\n",
    "            del dict_to_shorten[key]\n",
    "    return dict_to_shorten\n",
    "\n",
    "shortened_count = short_count(counted_words)\n",
    "#print(len(shortened_count))\n",
    "\n",
    "\n",
    "x = list(shortened_count.keys())\n",
    "y = []\n",
    "\n",
    "for word in x:\n",
    "    y.append(counted_words[word])\n",
    "\n",
    "plt.bar(x,y)\n",
    "plt.title('25 Most Common Words in Macbeth')\n",
    "plt.xlabel('Most Common Words')\n",
    "plt.ylabel('Word Count')\n",
    "plt.show()\n",
    "\n",
    "print(\"Words and counts: \",shortened_count)\n",
    "# Pseudo-code Outline •\n",
    "# Split the transcript into words •\n",
    "# Create a dictionary •\n",
    "# Iterate through the text of Macbeth •\n",
    "# Update word counts •\n",
    "# Create Bar Graph •\n",
    "# Include descriptive titles and labels •"
   ]
  },
  {
   "cell_type": "markdown",
   "metadata": {},
   "source": [
    "## Level Up (Optional)\n",
    "This project should take you about an hour and a half to complete. If you're done much more quickly than that and are not behind in the course, feel free to deepen your knowledge by completing any or all of the following tasks until you run out of time:\n",
    "* Create a list of top characters by mentions of their names \n",
    "* Split the text by which character is talking\n",
    "* Create subgraphs of the most common words by character\n",
    "* Reduce the string to the text of the play itself. (Remove any initial notes, forward, introduction, appendix, etc.)\n",
    "* Come up with some other fun analyses of the text!\n",
    "\n",
    "## Summary\n",
    "Congratulations! You've got some extra practice combining various data types into useful programming patterns and done an initial analysis of a classic text!"
   ]
  }
 ],
 "metadata": {
  "kernelspec": {
   "display_name": "Python 3",
   "language": "python",
   "name": "python3"
  },
  "language_info": {
   "codemirror_mode": {
    "name": "ipython",
    "version": 3
   },
   "file_extension": ".py",
   "mimetype": "text/x-python",
   "name": "python",
   "nbconvert_exporter": "python",
   "pygments_lexer": "ipython3",
   "version": "3.6.6"
  }
 },
 "nbformat": 4,
 "nbformat_minor": 2
}
